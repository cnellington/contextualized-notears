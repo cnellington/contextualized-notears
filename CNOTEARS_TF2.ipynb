{
 "cells": [
  {
   "cell_type": "code",
   "execution_count": 130,
   "metadata": {},
   "outputs": [],
   "source": [
    "\"\"\"\n",
    "Caleb Ellington\n",
    "C-NOTEARS hack\n",
    "10/2/20\n",
    "\n",
    "This is a proof-of-concept for the contextualized no-tears method.\n",
    "A list of all the bad design choices is kept below\n",
    "==================================================\n",
    "\n",
    "- batchsize limited to 1, \n",
    "- Subtype expression sample (X_n) must have the same shape as subtype\n",
    "    network (W_n) to work with rigid model.fit input definitions\n",
    "\"\"\"\n",
    "\n",
    "import numpy as np\n",
    "import matplotlib.pyplot as plt\n",
    "\n",
    "import tensorflow as tf\n",
    "\n",
    "import utils\n",
    "utils.set_random_seed(1)"
   ]
  },
  {
   "cell_type": "code",
   "execution_count": 141,
   "metadata": {},
   "outputs": [
    {
     "name": "stdout",
     "output_type": "stream",
     "text": [
      "subtypes (1000, 4), W_n (1000, 8, 8), e_n (1000, 20, 1), X_n (1000, 8, 8)\n",
      "true archetype 0\n"
     ]
    },
    {
     "data": {
      "image/png": "[encoded data removed]",
      "text/plain": [
       "<Figure size 432x288 with 2 Axes>"
      ]
     },
     "metadata": {
      "needs_background": "light"
     },
     "output_type": "display_data"
    },
    {
     "name": "stdout",
     "output_type": "stream",
     "text": [
      "true archetype 1\n"
     ]
    },
    {
     "data": {
      "image/png": "[encoded data removed]",
      "text/plain": [
       "<Figure size 432x288 with 2 Axes>"
      ]
     },
     "metadata": {
      "needs_background": "light"
     },
     "output_type": "display_data"
    },
    {
     "name": "stdout",
     "output_type": "stream",
     "text": [
      "true archetype 2\n"
     ]
    },
    {
     "data": {
      "image/png": "[encoded data removed]",
      "text/plain": [
       "<Figure size 432x288 with 2 Axes>"
      ]
     },
     "metadata": {
      "needs_background": "light"
     },
     "output_type": "display_data"
    },
    {
     "name": "stdout",
     "output_type": "stream",
     "text": [
      "true archetype 3\n"
     ]
    },
    {
     "data": {
      "image/png": "[encoded data removed]",
      "text/plain": [
       "<Figure size 432x288 with 2 Axes>"
      ]
     },
     "metadata": {
      "needs_background": "light"
     },
     "output_type": "display_data"
    }
   ],
   "source": [
    "# Generate synthetic data and load the outputs\n",
    "!python dataloader.py\n",
    "\n",
    "archz = np.load('outputs/archetypes.npz')\n",
    "W_k = archz['W_k']  # True network archetypes\n",
    "e_k = archz['e_k']  # True epigenetic archetypes\n",
    "samplez = np.load('outputs/samples.npz')\n",
    "subtypes = samplez['subtypes']\n",
    "W_n = samplez['W_n']  # Subtype network parameters\n",
    "e_n = samplez['e_n'][:,:,np.newaxis]  # Subtype epigenetic profile\n",
    "X_n = samplez['X_n']  # Subtype network expression data \n",
    "\n",
    "# Print data shapes and visualize true archetypes\n",
    "print(f\"subtypes {subtypes.shape}, W_n {W_n.shape}, e_n {e_n.shape}, X_n {X_n.shape}\")\n",
    "for i in range(len(W_k)):\n",
    "    print(f\"true archetype {i}\")\n",
    "    plt.imshow(W_k[i], cmap='coolwarm', vmin=-2, vmax=2)\n",
    "    plt.colorbar()\n",
    "    plt.show()"
   ]
  },
  {
   "cell_type": "code",
   "execution_count": 142,
   "metadata": {},
   "outputs": [
    {
     "name": "stdout",
     "output_type": "stream",
     "text": [
      "n 1000, d 8, xn 8, cn 20, k 4\n"
     ]
    }
   ],
   "source": [
    "# Model definitions\n",
    "n, d, _ = W_n.shape\n",
    "xn = X_n.shape[1]\n",
    "cn = e_n.shape[1]\n",
    "k = subtypes.shape[1]  # Learned archetype dictionary size\n",
    "batch_size = 1\n",
    "epochs = 100\n",
    "encoder_input_shape = (cn, 1)\n",
    "encoder_output_shape = (k,)\n",
    "dict_output_shape = (d, d)\n",
    "tf_dtype = tf.dtypes.float32\n",
    "\n",
    "print(f\"n {n}, d {d}, xn {xn}, cn {cn}, k {k}\")"
   ]
  },
  {
   "cell_type": "code",
   "execution_count": 145,
   "metadata": {},
   "outputs": [],
   "source": [
    "# Constructing the model\n",
    "\n",
    "# CEN context variable input\n",
    "context = tf.keras.layers.Input(\n",
    "    shape=encoder_input_shape, dtype=tf_dtype, name=\"C\"\n",
    ")\n",
    "\n",
    "# Encoder: context --> subtype\n",
    "encoder = tf.keras.models.Sequential([\n",
    "    tf.keras.layers.Flatten(),\n",
    "    tf.keras.layers.Dense(np.prod(encoder_output_shape), activation='softmax'),\n",
    "])\n",
    "encodings = encoder(context)\n",
    "\n",
    "# Define the Explainer layer\n",
    "class Explainer(tf.keras.layers.Layer):\n",
    "    def __init__(self, archetype_shape):\n",
    "        # Define the trainable archetype dictionary\n",
    "        super(Explainer, self).__init__()\n",
    "        self.archetypes = self.add_weight(\"archetypes\", \n",
    "                                          shape=archetype_shape)\n",
    "        self.k, self.d, _ = archetype_shape\n",
    "        \n",
    "    def build(self, input_shapes):\n",
    "        pass\n",
    "        \n",
    "    def call(self, subtype):\n",
    "        # Output a subtype linear combination of the archetype dictionary\n",
    "        tiled = tf.tile(subtype, (self.d*self.d, 1))\n",
    "        transposed = tf.transpose(tiled)\n",
    "        weights = tf.reshape(transposed, (subtype.shape[1], self.d, self.d))\n",
    "        result = tf.math.reduce_sum(tf.math.multiply(weights, self.archetypes), axis=0)\n",
    "        return result\n",
    "\n",
    "# Link the encoder and explainer and define the model\n",
    "explainer = Explainer(W_k.shape)\n",
    "outputs = explainer(encodings)\n",
    "model = tf.keras.models.Model(inputs=context, outputs=outputs)\n",
    "\n",
    "# Define NO-TEARS loss\n",
    "def loss(x_true, w_pred):\n",
    "    # TODO: ALL HYPERPARAMETERS ARE GUESSED FOR THIS TOY EXAMPLE\n",
    "    # Based on https://github.com/ignavier/notears-tensorflow\n",
    "    d = float(tf.shape(w_pred)[1])\n",
    "    n = float(tf.shape(x_true)[0])\n",
    "    l1_lambda = 1.0e-1\n",
    "    alpha = 1.0e2\n",
    "    rho = 1.0e1\n",
    "    h = tf.linalg.trace(tf.linalg.expm(w_pred * w_pred)) - d\n",
    "    x_prime = tf.matmul(x_true, w_pred)\n",
    "    mse = tf.square(tf.linalg.norm(x_true - x_prime))\n",
    "    return 0.5 / n * mse \\\n",
    "            + l1_lambda * tf.norm(w_pred, ord=1) \\\n",
    "            + alpha * h + 0.5 * rho * h * h\n",
    "\n",
    "# Compile the model\n",
    "opt = tf.keras.optimizers.Adam(learning_rate=1e-2)\n",
    "metrics = ['accuracy']\n",
    "model.compile(loss=loss, \n",
    "             optimizer=opt, \n",
    "             metrics = metrics)"
   ]
  },
  {
   "cell_type": "code",
   "execution_count": 146,
   "metadata": {},
   "outputs": [
    {
     "name": "stdout",
     "output_type": "stream",
     "text": [
      "Epoch 1/100\n",
      "900/900 [==============================] - 1s 853us/step - loss: 33.3890 - accuracy: 0.1388\n",
      "Epoch 2/100\n",
      "900/900 [==============================] - 1s 880us/step - loss: 31.4368 - accuracy: 0.1390\n",
      "Epoch 3/100\n",
      "900/900 [==============================] - 1s 849us/step - loss: 30.8682 - accuracy: 0.1349\n",
      "Epoch 4/100\n",
      "900/900 [==============================] - 1s 825us/step - loss: 30.7674 - accuracy: 0.1335\n",
      "Epoch 5/100\n",
      "900/900 [==============================] - 1s 887us/step - loss: 30.7090 - accuracy: 0.1336\n",
      "Epoch 6/100\n",
      "900/900 [==============================] - 1s 848us/step - loss: 30.6474 - accuracy: 0.1344\n",
      "Epoch 7/100\n",
      "900/900 [==============================] - 1s 826us/step - loss: 30.6194 - accuracy: 0.1332\n",
      "Epoch 8/100\n",
      "900/900 [==============================] - 1s 868us/step - loss: 30.6823 - accuracy: 0.1339\n",
      "Epoch 9/100\n",
      "900/900 [==============================] - 1s 877us/step - loss: 30.6377 - accuracy: 0.1306\n",
      "Epoch 10/100\n",
      "900/900 [==============================] - 1s 908us/step - loss: 30.6188 - accuracy: 0.1292\n",
      "Epoch 11/100\n",
      "900/900 [==============================] - 1s 882us/step - loss: 30.6696 - accuracy: 0.1311\n",
      "Epoch 12/100\n",
      "900/900 [==============================] - 1s 894us/step - loss: 30.6033 - accuracy: 0.1287\n",
      "Epoch 13/100\n",
      "900/900 [==============================] - 1s 918us/step - loss: 30.7677 - accuracy: 0.1315\n",
      "Epoch 14/100\n",
      "900/900 [==============================] - 1s 941us/step - loss: 30.6838 - accuracy: 0.1318\n",
      "Epoch 15/100\n",
      "900/900 [==============================] - 1s 934us/step - loss: 30.6307 - accuracy: 0.1317\n",
      "Epoch 16/100\n",
      "900/900 [==============================] - 1s 1ms/step - loss: 30.6302 - accuracy: 0.1312\n",
      "Epoch 17/100\n",
      "900/900 [==============================] - 1s 1ms/step - loss: 30.6769 - accuracy: 0.1321\n",
      "Epoch 18/100\n",
      "900/900 [==============================] - 1s 1ms/step - loss: 30.6529 - accuracy: 0.1358\n",
      "Epoch 19/100\n",
      "900/900 [==============================] - 1s 1ms/step - loss: 30.6189 - accuracy: 0.1329\n",
      "Epoch 20/100\n",
      "900/900 [==============================] - 1s 1ms/step - loss: 30.6225 - accuracy: 0.1301\n",
      "Epoch 21/100\n",
      "900/900 [==============================] - 1s 1ms/step - loss: 30.6415 - accuracy: 0.1324\n",
      "Epoch 22/100\n",
      "900/900 [==============================] - 1s 1ms/step - loss: 30.5726 - accuracy: 0.1315\n",
      "Epoch 23/100\n",
      "900/900 [==============================] - 1s 1ms/step - loss: 30.5875 - accuracy: 0.1314\n",
      "Epoch 24/100\n",
      "900/900 [==============================] - 1s 1ms/step - loss: 30.6597 - accuracy: 0.1314\n",
      "Epoch 25/100\n",
      "900/900 [==============================] - 1s 1ms/step - loss: 30.5409 - accuracy: 0.1287\n",
      "Epoch 26/100\n",
      "900/900 [==============================] - 1s 1ms/step - loss: 30.6146 - accuracy: 0.1297\n",
      "Epoch 27/100\n",
      "900/900 [==============================] - 1s 1ms/step - loss: 30.6051 - accuracy: 0.1318\n",
      "Epoch 28/100\n",
      "900/900 [==============================] - 1s 1ms/step - loss: 30.6244 - accuracy: 0.1329\n",
      "Epoch 29/100\n",
      "900/900 [==============================] - 1s 2ms/step - loss: 30.6225 - accuracy: 0.1319\n",
      "Epoch 30/100\n",
      "900/900 [==============================] - 1s 1ms/step - loss: 30.6410 - accuracy: 0.1331\n",
      "Epoch 31/100\n",
      "900/900 [==============================] - 1s 1ms/step - loss: 30.6564 - accuracy: 0.1326\n",
      "Epoch 32/100\n",
      "900/900 [==============================] - 1s 1ms/step - loss: 30.6116 - accuracy: 0.1333\n",
      "Epoch 33/100\n",
      "900/900 [==============================] - 1s 1ms/step - loss: 30.5945 - accuracy: 0.1351\n",
      "Epoch 34/100\n",
      "900/900 [==============================] - 1s 1ms/step - loss: 30.5989 - accuracy: 0.1322\n",
      "Epoch 35/100\n",
      "900/900 [==============================] - 1s 1ms/step - loss: 30.5897 - accuracy: 0.1311\n",
      "Epoch 36/100\n",
      "900/900 [==============================] - 1s 1ms/step - loss: 30.6191 - accuracy: 0.1307\n",
      "Epoch 37/100\n",
      "900/900 [==============================] - 1s 1ms/step - loss: 30.6149 - accuracy: 0.1286\n",
      "Epoch 38/100\n",
      "900/900 [==============================] - 1s 1ms/step - loss: 30.6068 - accuracy: 0.1307\n",
      "Epoch 39/100\n",
      "900/900 [==============================] - 1s 1ms/step - loss: 30.6189 - accuracy: 0.1301\n",
      "Epoch 40/100\n",
      "900/900 [==============================] - 1s 1ms/step - loss: 30.6433 - accuracy: 0.1308\n",
      "Epoch 41/100\n",
      "900/900 [==============================] - 1s 1ms/step - loss: 30.6268 - accuracy: 0.1300\n",
      "Epoch 42/100\n",
      "900/900 [==============================] - 2s 2ms/step - loss: 30.6429 - accuracy: 0.1294\n",
      "Epoch 43/100\n",
      "900/900 [==============================] - 3s 3ms/step - loss: 30.6714 - accuracy: 0.1329\n",
      "Epoch 44/100\n",
      "900/900 [==============================] - 3s 3ms/step - loss: 30.6352 - accuracy: 0.1339A: 0s - loss: 30.5931 - accuracy: 0.1\n",
      "Epoch 45/100\n",
      "900/900 [==============================] - 2s 2ms/step - loss: 30.6115 - accuracy: 0.1321\n",
      "Epoch 46/100\n",
      "900/900 [==============================] - 2s 3ms/step - loss: 30.6316 - accuracy: 0.1312\n",
      "Epoch 47/100\n",
      "900/900 [==============================] - 3s 3ms/step - loss: 30.6327 - accuracy: 0.1332\n",
      "Epoch 48/100\n",
      "900/900 [==============================] - 4s 4ms/step - loss: 30.6195 - accuracy: 0.1319\n",
      "Epoch 49/100\n",
      "900/900 [==============================] - 3s 4ms/step - loss: 30.6422 - accuracy: 0.1304A: 2s - l\n",
      "Epoch 50/100\n",
      "900/900 [==============================] - 3s 3ms/step - loss: 30.5878 - accuracy: 0.1318A: 2s - l - ETA: 0s - loss: 30.6544 - accurac\n",
      "Epoch 51/100\n",
      "900/900 [==============================] - 4s 4ms/step - loss: 30.5952 - accuracy: 0.1314\n",
      "Epoch 52/100\n",
      "900/900 [==============================] - 3s 4ms/step - loss: 30.6115 - accuracy: 0.1331\n",
      "Epoch 53/100\n",
      "900/900 [==============================] - 4s 4ms/step - loss: 30.5970 - accuracy: 0.1332\n",
      "Epoch 54/100\n",
      "900/900 [==============================] - 3s 4ms/step - loss: 30.6654 - accuracy: 0.1307\n",
      "Epoch 55/100\n",
      "900/900 [==============================] - 3s 4ms/step - loss: 30.6269 - accuracy: 0.1340\n",
      "Epoch 56/100\n",
      "900/900 [==============================] - 3s 3ms/step - loss: 30.5430 - accuracy: 0.1328\n",
      "Epoch 57/100\n",
      "900/900 [==============================] - 3s 3ms/step - loss: 30.6320 - accuracy: 0.1349A: 1s - loss: 30\n",
      "Epoch 58/100\n",
      "900/900 [==============================] - 3s 3ms/step - loss: 30.6000 - accuracy: 0.1317\n",
      "Epoch 59/100\n",
      "900/900 [==============================] - 4s 4ms/step - loss: 30.6386 - accuracy: 0.1311\n",
      "Epoch 60/100\n",
      "900/900 [==============================] - 3s 4ms/step - loss: 30.5938 - accuracy: 0.1297\n",
      "Epoch 61/100\n",
      "900/900 [==============================] - 4s 5ms/step - loss: 30.6006 - accuracy: 0.1319\n",
      "Epoch 62/100\n",
      "900/900 [==============================] - 4s 4ms/step - loss: 30.6318 - accuracy: 0.1331\n",
      "Epoch 63/100\n",
      "900/900 [==============================] - 3s 3ms/step - loss: 30.5999 - accuracy: 0.1319\n",
      "Epoch 64/100\n",
      "900/900 [==============================] - 2s 2ms/step - loss: 30.6050 - accuracy: 0.1343\n",
      "Epoch 65/100\n",
      "900/900 [==============================] - 3s 3ms/step - loss: 30.6548 - accuracy: 0.1301\n",
      "Epoch 66/100\n",
      "900/900 [==============================] - 1s 2ms/step - loss: 30.6310 - accuracy: 0.1292\n",
      "Epoch 67/100\n",
      "900/900 [==============================] - 1s 2ms/step - loss: 30.6207 - accuracy: 0.1304\n",
      "Epoch 68/100\n",
      "900/900 [==============================] - 2s 2ms/step - loss: 30.6061 - accuracy: 0.1314\n",
      "Epoch 69/100\n",
      "900/900 [==============================] - 1s 2ms/step - loss: 30.6571 - accuracy: 0.1304\n",
      "Epoch 70/100\n",
      "900/900 [==============================] - 1s 2ms/step - loss: 30.5971 - accuracy: 0.1293\n",
      "Epoch 71/100\n",
      "900/900 [==============================] - 1s 2ms/step - loss: 30.6507 - accuracy: 0.1311\n",
      "Epoch 72/100\n",
      "900/900 [==============================] - 1s 1ms/step - loss: 30.6308 - accuracy: 0.1304\n",
      "Epoch 73/100\n",
      "900/900 [==============================] - 1s 2ms/step - loss: 30.6503 - accuracy: 0.1349\n",
      "Epoch 74/100\n",
      "900/900 [==============================] - 1s 1ms/step - loss: 30.6413 - accuracy: 0.1281\n",
      "Epoch 75/100\n",
      "900/900 [==============================] - 1s 2ms/step - loss: 30.6849 - accuracy: 0.1279\n",
      "Epoch 76/100\n",
      "900/900 [==============================] - 1s 1ms/step - loss: 30.6538 - accuracy: 0.1292\n",
      "Epoch 77/100\n",
      "900/900 [==============================] - 2s 2ms/step - loss: 30.6281 - accuracy: 0.1276\n",
      "Epoch 78/100\n",
      "900/900 [==============================] - 1s 2ms/step - loss: 30.5983 - accuracy: 0.1308\n",
      "Epoch 79/100\n",
      "900/900 [==============================] - 2s 2ms/step - loss: 30.6552 - accuracy: 0.1290\n",
      "Epoch 80/100\n",
      "900/900 [==============================] - 2s 3ms/step - loss: 30.6323 - accuracy: 0.1325\n",
      "Epoch 81/100\n",
      "900/900 [==============================] - 2s 2ms/step - loss: 30.5607 - accuracy: 0.1368\n",
      "Epoch 82/100\n",
      "900/900 [==============================] - 1s 1ms/step - loss: 30.5702 - accuracy: 0.1310\n",
      "Epoch 83/100\n",
      "900/900 [==============================] - 2s 2ms/step - loss: 30.6443 - accuracy: 0.1297\n",
      "Epoch 84/100\n",
      "900/900 [==============================] - 2s 2ms/step - loss: 30.7126 - accuracy: 0.1331\n",
      "Epoch 85/100\n",
      "900/900 [==============================] - 2s 2ms/step - loss: 30.6165 - accuracy: 0.1307\n",
      "Epoch 86/100\n",
      "900/900 [==============================] - 2s 3ms/step - loss: 30.5858 - accuracy: 0.1301\n",
      "Epoch 87/100\n",
      "900/900 [==============================] - 3s 3ms/step - loss: 30.6585 - accuracy: 0.1331\n",
      "Epoch 88/100\n",
      "900/900 [==============================] - 2s 2ms/step - loss: 30.6155 - accuracy: 0.1333\n",
      "Epoch 89/100\n",
      "900/900 [==============================] - 2s 2ms/step - loss: 30.6577 - accuracy: 0.1315\n",
      "Epoch 90/100\n",
      "900/900 [==============================] - 2s 2ms/step - loss: 30.6490 - accuracy: 0.1325\n",
      "Epoch 91/100\n",
      "900/900 [==============================] - 2s 3ms/step - loss: 30.6021 - accuracy: 0.1317\n",
      "Epoch 92/100\n",
      "900/900 [==============================] - 2s 2ms/step - loss: 30.6203 - accuracy: 0.1317\n",
      "Epoch 93/100\n",
      "900/900 [==============================] - 2s 3ms/step - loss: 30.6173 - accuracy: 0.1326\n",
      "Epoch 94/100\n",
      "900/900 [==============================] - 2s 3ms/step - loss: 30.6305 - accuracy: 0.1299\n",
      "Epoch 95/100\n",
      "900/900 [==============================] - 3s 3ms/step - loss: 30.5874 - accuracy: 0.1294\n",
      "Epoch 96/100\n",
      "900/900 [==============================] - 3s 3ms/step - loss: 30.6150 - accuracy: 0.1300\n",
      "Epoch 97/100\n",
      "900/900 [==============================] - 4s 4ms/step - loss: 30.6265 - accuracy: 0.1300\n",
      "Epoch 98/100\n",
      "900/900 [==============================] - 2s 3ms/step - loss: 30.6752 - accuracy: 0.1317\n",
      "Epoch 99/100\n",
      "900/900 [==============================] - 2s 2ms/step - loss: 30.6218 - accuracy: 0.1299\n",
      "Epoch 100/100\n",
      "900/900 [==============================] - 3s 3ms/step - loss: 30.5746 - accuracy: 0.1319\n"
     ]
    },
    {
     "data": {
      "text/plain": [
       "<tensorflow.python.keras.callbacks.History at 0x141b566d8>"
      ]
     },
     "execution_count": 146,
     "metadata": {},
     "output_type": "execute_result"
    }
   ],
   "source": [
    "# Fit the model to the training subtypes (C input, X measured expression reference)\n",
    "model.fit(e_n[:900], X_n[:900], batch_size=batch_size, epochs=epochs)"
   ]
  },
  {
   "cell_type": "code",
   "execution_count": 147,
   "metadata": {},
   "outputs": [
    {
     "name": "stdout",
     "output_type": "stream",
     "text": [
      "WARNING:tensorflow:5 out of the last 12 calls to <function Model.make_predict_function.<locals>.predict_function at 0x140ecbb70> triggered tf.function retracing. Tracing is expensive and the excessive number of tracings could be due to (1) creating @tf.function repeatedly in a loop, (2) passing tensors with different shapes, (3) passing Python objects instead of tensors. For (1), please define your @tf.function outside of the loop. For (2), @tf.function has experimental_relax_shapes=True option that relaxes argument shapes that can avoid unnecessary retracing. For (3), please refer to https://www.tensorflow.org/tutorials/customization/performance#python_or_tensor_args and https://www.tensorflow.org/api_docs/python/tf/function for  more details.\n",
      "mse| pred: 0.684227434178138, baseline: 4.1241704966958075\n"
     ]
    }
   ],
   "source": [
    "# Check the MSE of some test sample for validation\n",
    "y_pred = model.predict(e_n[999:1000])\n",
    "y_true = W_n[999:1000][0]\n",
    "print(f\"mse| pred: {np.mean(np.sum(np.square(y_pred-y_true)))}, baseline: {np.mean(np.sum(np.square(np.zeros(y_pred.shape)-y_true)))}\")"
   ]
  },
  {
   "cell_type": "code",
   "execution_count": 148,
   "metadata": {},
   "outputs": [],
   "source": [
    "# Define a thresholding function for visualizing predictions\n",
    "def trim_params(w, thres=0.2):\n",
    "    w_new = np.copy(w)\n",
    "    w_new[np.abs(w) < thres] = 0\n",
    "    return w_new"
   ]
  },
  {
   "cell_type": "code",
   "execution_count": 149,
   "metadata": {},
   "outputs": [
    {
     "data": {
      "image/png": "[encoded data removed]",
      "text/plain": [
       "<Figure size 432x288 with 2 Axes>"
      ]
     },
     "metadata": {
      "needs_background": "light"
     },
     "output_type": "display_data"
    },
    {
     "data": {
      "image/png": "[encoded data removed]",
      "text/plain": [
       "<Figure size 432x288 with 2 Axes>"
      ]
     },
     "metadata": {
      "needs_background": "light"
     },
     "output_type": "display_data"
    }
   ],
   "source": [
    "# Visualize a prediction\n",
    "y_pred = trim_params(y_pred)\n",
    "plt.imshow(y_pred, cmap='coolwarm', vmin=-2, vmax=2)\n",
    "plt.title(r\"$W_{i=185}$ Predicted\")\n",
    "plt.colorbar()\n",
    "plt.show()\n",
    "plt.imshow(y_true, cmap='coolwarm', vmin=-2, vmax=2)\n",
    "plt.title(r\"$W_{i=185}$ Truth\")\n",
    "plt.colorbar()\n",
    "plt.show()"
   ]
  },
  {
   "cell_type": "code",
   "execution_count": 150,
   "metadata": {},
   "outputs": [
    {
     "name": "stdout",
     "output_type": "stream",
     "text": [
      "pred 0\n"
     ]
    },
    {
     "data": {
      "image/png": "[encoded data removed]",
      "text/plain": [
       "<Figure size 432x288 with 2 Axes>"
      ]
     },
     "metadata": {
      "needs_background": "light"
     },
     "output_type": "display_data"
    },
    {
     "name": "stdout",
     "output_type": "stream",
     "text": [
      "pred 1\n"
     ]
    },
    {
     "data": {
      "image/png": "[encoded data removed]",
      "text/plain": [
       "<Figure size 432x288 with 2 Axes>"
      ]
     },
     "metadata": {
      "needs_background": "light"
     },
     "output_type": "display_data"
    },
    {
     "name": "stdout",
     "output_type": "stream",
     "text": [
      "pred 2\n"
     ]
    },
    {
     "data": {
      "image/png": "[encoded data removed]",
      "text/plain": [
       "<Figure size 432x288 with 2 Axes>"
      ]
     },
     "metadata": {
      "needs_background": "light"
     },
     "output_type": "display_data"
    },
    {
     "name": "stdout",
     "output_type": "stream",
     "text": [
      "pred 3\n"
     ]
    },
    {
     "data": {
      "image/png": "[encoded data removed]",
      "text/plain": [
       "<Figure size 432x288 with 2 Axes>"
      ]
     },
     "metadata": {
      "needs_background": "light"
     },
     "output_type": "display_data"
    },
    {
     "name": "stdout",
     "output_type": "stream",
     "text": [
      "true 0\n"
     ]
    },
    {
     "data": {
      "image/png": "[encoded data removed]",
      "text/plain": [
       "<Figure size 432x288 with 2 Axes>"
      ]
     },
     "metadata": {
      "needs_background": "light"
     },
     "output_type": "display_data"
    },
    {
     "name": "stdout",
     "output_type": "stream",
     "text": [
      "true 1\n"
     ]
    },
    {
     "data": {
      "image/png": "[encoded data removed]",
      "text/plain": [
       "<Figure size 432x288 with 2 Axes>"
      ]
     },
     "metadata": {
      "needs_background": "light"
     },
     "output_type": "display_data"
    },
    {
     "name": "stdout",
     "output_type": "stream",
     "text": [
      "true 2\n"
     ]
    },
    {
     "data": {
      "image/png": "[encoded data removed]",
      "text/plain": [
       "<Figure size 432x288 with 2 Axes>"
      ]
     },
     "metadata": {
      "needs_background": "light"
     },
     "output_type": "display_data"
    },
    {
     "name": "stdout",
     "output_type": "stream",
     "text": [
      "true 3\n"
     ]
    },
    {
     "data": {
      "image/png": "[encoded data removed]",
      "text/plain": [
       "<Figure size 432x288 with 2 Axes>"
      ]
     },
     "metadata": {
      "needs_background": "light"
     },
     "output_type": "display_data"
    }
   ],
   "source": [
    "# Visualize the learned archetypes\n",
    "\n",
    "W_k_pred = explainer.trainable_variables[0].numpy()\n",
    "\n",
    "for i in range(k):\n",
    "    print(f\"pred {i}\")\n",
    "    plt.imshow(W_k_pred[i], cmap='coolwarm', vmin=-2, vmax=2)\n",
    "    plt.colorbar()\n",
    "    plt.show()\n",
    "for i in range(k):\n",
    "    print(f\"true {i}\")\n",
    "    plt.imshow(W_k[i], cmap='coolwarm', vmin=-2, vmax=2)\n",
    "    plt.colorbar()\n",
    "    plt.show()"
   ]
  },
  {
   "cell_type": "code",
   "execution_count": 151,
   "metadata": {},
   "outputs": [
    {
     "data": {
      "text/plain": [
       "(array([[0.34597522, 0.37693667, 0.1665053 , 0.11058284]], dtype=float32),\n",
       " array([[0.26994262, 0.39339286, 0.14825   , 0.18841452]]))"
      ]
     },
     "execution_count": 151,
     "metadata": {},
     "output_type": "execute_result"
    }
   ],
   "source": [
    "# Display the predicted subtype and real subtype\n",
    "encoder(e_n[999:2000]).numpy(), subtypes[999:2000]"
   ]
  },
  {
   "cell_type": "code",
   "execution_count": null,
   "metadata": {},
   "outputs": [],
   "source": []
  }
 ],
 "metadata": {
  "kernelspec": {
   "display_name": "cnotears_dl",
   "language": "python",
   "name": "cnotears_dl"
  },
  "language_info": {
   "codemirror_mode": {
    "name": "ipython",
    "version": 3
   },
   "file_extension": ".py",
   "mimetype": "text/x-python",
   "name": "python",
   "nbconvert_exporter": "python",
   "pygments_lexer": "ipython3",
   "version": "3.7.3"
  }
 },
 "nbformat": 4,
 "nbformat_minor": 4
}
