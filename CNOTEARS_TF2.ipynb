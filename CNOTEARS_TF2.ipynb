{
 "cells": [
  {
   "cell_type": "code",
   "execution_count": 1,
   "metadata": {},
   "outputs": [
    {
     "name": "stderr",
     "output_type": "stream",
     "text": [
      "/Users/calebellington/.pyenv/versions/3.7.3/lib/python3.7/site-packages/pandas/compat/__init__.py:120: UserWarning: Could not import the lzma module. Your installed Python is incomplete. Attempting to use lzma compression will result in a RuntimeError.\n",
      "  warnings.warn(msg)\n"
     ]
    }
   ],
   "source": [
    "\"\"\"\n",
    "Caleb Ellington\n",
    "C-NOTEARS hack\n",
    "10/2/20\n",
    "\n",
    "This is a proof-of-concept for the contextualized no-tears method.\n",
    "A list of all the bad design choices is kept below\n",
    "==================================================\n",
    "\n",
    "- batchsize limited to 1, \n",
    "- Subtype expression sample (X_n) must have the same shape as subtype\n",
    "    network (W_n) to work with rigid model.fit input definitions\n",
    "\"\"\"\n",
    "\n",
    "import numpy as np\n",
    "import matplotlib.pyplot as plt\n",
    "\n",
    "import tensorflow as tf\n",
    "\n",
    "import utils\n",
    "utils.set_random_seed(1)"
   ]
  },
  {
   "cell_type": "code",
   "execution_count": 64,
   "metadata": {},
   "outputs": [
    {
     "name": "stdout",
     "output_type": "stream",
     "text": [
      "subtypes (200, 2), W_n (200, 6, 6), e_n (200, 20, 1), X_n (200, 6, 6)\n",
      "true 0\n"
     ]
    },
    {
     "data": {
      "image/png": "[encoded data removed]",
      "text/plain": [
       "<Figure size 432x288 with 2 Axes>"
      ]
     },
     "metadata": {
      "needs_background": "light"
     },
     "output_type": "display_data"
    },
    {
     "name": "stdout",
     "output_type": "stream",
     "text": [
      "true 1\n"
     ]
    },
    {
     "data": {
      "image/png": "[encoded data removed]",
      "text/plain": [
       "<Figure size 432x288 with 2 Axes>"
      ]
     },
     "metadata": {
      "needs_background": "light"
     },
     "output_type": "display_data"
    }
   ],
   "source": [
    "# Generate synthetic data and load the outputs\n",
    "!python dataloader.py\n",
    "\n",
    "archz = np.load('outputs/archetypes.npz')\n",
    "W_k = archz['W_k']  # True network archetypes\n",
    "e_k = archz['e_k']  # True epigenetic archetypes\n",
    "samplez = np.load('outputs/samples.npz')\n",
    "subtypes = samplez['subtypes']\n",
    "W_n = samplez['W_n']  # Subtype network parameters\n",
    "e_n = samplez['e_n'][:,:,np.newaxis]  # Subtype epigenetic profile\n",
    "X_n = samplez['X_n']  # Subtype network expression data \n",
    "\n",
    "# Print data shapes and visualize true archetypes\n",
    "print(f\"subtypes {subtypes.shape}, W_n {W_n.shape}, e_n {e_n.shape}, X_n {X_n.shape}\")\n",
    "for i in range(k):\n",
    "    print(f\"true archetype {i}\")\n",
    "    plt.imshow(W_k[i], cmap='coolwarm', vmin=-2, vmax=2)\n",
    "    plt.colorbar()\n",
    "    plt.show()"
   ]
  },
  {
   "cell_type": "code",
   "execution_count": 65,
   "metadata": {},
   "outputs": [
    {
     "name": "stdout",
     "output_type": "stream",
     "text": [
      "n 200, d 6, xn 6, cn 20, k 2\n"
     ]
    }
   ],
   "source": [
    "# Model definitions\n",
    "n, d, _ = W_n.shape\n",
    "xn = X_n.shape[1]\n",
    "cn = e_n.shape[1]\n",
    "k = subtypes.shape[1]  # Learned archetype dictionary size\n",
    "batch_size = 1\n",
    "epochs = 100\n",
    "encoder_input_shape = (cn, 1)\n",
    "encoder_output_shape = (k,)\n",
    "dict_output_shape = (d, d)\n",
    "tf_dtype = tf.dtypes.float32\n",
    "\n",
    "print(f\"n {n}, d {d}, xn {xn}, cn {cn}, k {k}\")"
   ]
  },
  {
   "cell_type": "code",
   "execution_count": 92,
   "metadata": {},
   "outputs": [],
   "source": [
    "# Constructing the model\n",
    "\n",
    "# CEN context variable input\n",
    "context = tf.keras.layers.Input(\n",
    "    shape=encoder_input_shape, dtype=tf_dtype, name=\"C\"\n",
    ")\n",
    "\n",
    "# Encoder: context --> subtype\n",
    "encoder = tf.keras.models.Sequential([\n",
    "    tf.keras.layers.Flatten(),\n",
    "    tf.keras.layers.Dense(np.prod(encoder_output_shape), activation='softmax'),\n",
    "])\n",
    "encodings = encoder(context, name=\"E\")\n",
    "\n",
    "# Define the Explainer layer\n",
    "class Explainer(tf.keras.layers.Layer):\n",
    "    def __init__(self, archetype_shape):\n",
    "        # Define the trainable archetype dictionary\n",
    "        super(Explainer, self).__init__()\n",
    "        self.archetypes = self.add_weight(\"archetypes\", \n",
    "                                          shape=archetype_shape)\n",
    "        self.k, self.d, _ = archetype_shape\n",
    "        \n",
    "    def build(self, input_shapes):\n",
    "        pass\n",
    "        \n",
    "    def call(self, subtype):\n",
    "        # Output a subtype linear combination of the archetype dictionary\n",
    "        tiled = tf.tile(subtype, (self.d*self.d, 1))\n",
    "        transposed = tf.transpose(tiled)\n",
    "        weights = tf.reshape(transposed, (subtype.shape[1], self.d, self.d))\n",
    "        result = tf.math.reduce_sum(tf.math.multiply(weights, self.archetypes), axis=0)\n",
    "        return result\n",
    "\n",
    "# Link the encoder and explainer and define the model\n",
    "explainer = Explainer(W_k.shape)\n",
    "outputs = explainer(encodings)\n",
    "model = tf.keras.models.Model(inputs=context, outputs=outputs)\n",
    "\n",
    "# Define NO-TEARS loss\n",
    "def loss(x_true, w_pred):\n",
    "    # TODO: ALL HYPERPARAMETERS ARE GUESSED FOR THIS TOY EXAMPLE\n",
    "    # Based on https://github.com/ignavier/notears-tensorflow\n",
    "    d = float(tf.shape(w_pred)[1])\n",
    "    n = float(tf.shape(x_true)[0])\n",
    "    l1_lambda = 1.0e-1\n",
    "    alpha = 1.0e2\n",
    "    rho = 1.0e1\n",
    "    h = tf.linalg.trace(tf.linalg.expm(w_pred * w_pred)) - d\n",
    "    x_prime = tf.matmul(x_true, w_pred)\n",
    "    mse = tf.square(tf.linalg.norm(x_true - x_prime))\n",
    "    return 0.5 / n * mse \\\n",
    "            + l1_lambda * tf.norm(w_pred, ord=1) \\\n",
    "            + alpha * h + 0.5 * rho * h * h\n",
    "\n",
    "# Compile the model\n",
    "opt = tf.keras.optimizers.Adam(learning_rate=1e-2)\n",
    "metrics = ['accuracy']\n",
    "model.compile(loss=loss, \n",
    "             optimizer=opt, \n",
    "             metrics = metrics)"
   ]
  },
  {
   "cell_type": "code",
   "execution_count": 93,
   "metadata": {
    "collapsed": true,
    "jupyter": {
     "outputs_hidden": true
    }
   },
   "outputs": [
    {
     "name": "stdout",
     "output_type": "stream",
     "text": [
      "Epoch 1/100\n",
      "180/180 [==============================] - 0s 870us/step - loss: 28.5227 - accuracy: 0.2176\n",
      "Epoch 2/100\n",
      "180/180 [==============================] - 0s 915us/step - loss: 24.0228 - accuracy: 0.2204\n",
      "Epoch 3/100\n",
      "180/180 [==============================] - 0s 899us/step - loss: 23.3528 - accuracy: 0.2343\n",
      "Epoch 4/100\n",
      "180/180 [==============================] - 0s 890us/step - loss: 22.7585 - accuracy: 0.2074\n",
      "Epoch 5/100\n",
      "180/180 [==============================] - 0s 938us/step - loss: 20.3959 - accuracy: 0.2204\n",
      "Epoch 6/100\n",
      "180/180 [==============================] - 0s 905us/step - loss: 18.5741 - accuracy: 0.2194\n",
      "Epoch 7/100\n",
      "180/180 [==============================] - 0s 852us/step - loss: 18.1303 - accuracy: 0.2046\n",
      "Epoch 8/100\n",
      "180/180 [==============================] - 0s 893us/step - loss: 17.8965 - accuracy: 0.2083\n",
      "Epoch 9/100\n",
      "180/180 [==============================] - 0s 891us/step - loss: 18.1055 - accuracy: 0.2074\n",
      "Epoch 10/100\n",
      "180/180 [==============================] - 0s 910us/step - loss: 17.8650 - accuracy: 0.2019\n",
      "Epoch 11/100\n",
      "180/180 [==============================] - 0s 907us/step - loss: 17.6977 - accuracy: 0.2065\n",
      "Epoch 12/100\n",
      "180/180 [==============================] - 0s 873us/step - loss: 17.7000 - accuracy: 0.2120\n",
      "Epoch 13/100\n",
      "180/180 [==============================] - 0s 908us/step - loss: 17.7633 - accuracy: 0.2009\n",
      "Epoch 14/100\n",
      "180/180 [==============================] - 0s 823us/step - loss: 17.7416 - accuracy: 0.2083\n",
      "Epoch 15/100\n",
      "180/180 [==============================] - 0s 1ms/step - loss: 17.7339 - accuracy: 0.2111\n",
      "Epoch 16/100\n",
      "180/180 [==============================] - 0s 920us/step - loss: 17.7949 - accuracy: 0.2102\n",
      "Epoch 17/100\n",
      "180/180 [==============================] - 0s 903us/step - loss: 17.6891 - accuracy: 0.2157\n",
      "Epoch 18/100\n",
      "180/180 [==============================] - 0s 934us/step - loss: 17.6538 - accuracy: 0.2019\n",
      "Epoch 19/100\n",
      "180/180 [==============================] - 0s 895us/step - loss: 17.7463 - accuracy: 0.2130\n",
      "Epoch 20/100\n",
      "180/180 [==============================] - 0s 1ms/step - loss: 17.7851 - accuracy: 0.2241\n",
      "Epoch 21/100\n",
      "180/180 [==============================] - 0s 961us/step - loss: 17.7065 - accuracy: 0.2111\n",
      "Epoch 22/100\n",
      "180/180 [==============================] - 0s 1ms/step - loss: 17.6878 - accuracy: 0.2111\n",
      "Epoch 23/100\n",
      "180/180 [==============================] - 0s 1ms/step - loss: 17.7722 - accuracy: 0.2130\n",
      "Epoch 24/100\n",
      "180/180 [==============================] - 0s 951us/step - loss: 17.7157 - accuracy: 0.2139\n",
      "Epoch 25/100\n",
      "180/180 [==============================] - 0s 955us/step - loss: 17.7522 - accuracy: 0.2130\n",
      "Epoch 26/100\n",
      "180/180 [==============================] - 0s 986us/step - loss: 17.6542 - accuracy: 0.2065\n",
      "Epoch 27/100\n",
      "180/180 [==============================] - 0s 976us/step - loss: 17.5283 - accuracy: 0.2093\n",
      "Epoch 28/100\n",
      "180/180 [==============================] - 0s 1ms/step - loss: 17.6472 - accuracy: 0.2139\n",
      "Epoch 29/100\n",
      "180/180 [==============================] - 0s 1ms/step - loss: 17.6944 - accuracy: 0.2037\n",
      "Epoch 30/100\n",
      "180/180 [==============================] - 0s 948us/step - loss: 17.6693 - accuracy: 0.2000\n",
      "Epoch 31/100\n",
      "180/180 [==============================] - 0s 1ms/step - loss: 17.6148 - accuracy: 0.2139\n",
      "Epoch 32/100\n",
      "180/180 [==============================] - 0s 1ms/step - loss: 17.6476 - accuracy: 0.2065\n",
      "Epoch 33/100\n",
      "180/180 [==============================] - 0s 992us/step - loss: 17.6467 - accuracy: 0.2167\n",
      "Epoch 34/100\n",
      "180/180 [==============================] - 0s 1ms/step - loss: 17.7851 - accuracy: 0.2148\n",
      "Epoch 35/100\n",
      "180/180 [==============================] - 0s 1ms/step - loss: 17.6342 - accuracy: 0.2037\n",
      "Epoch 36/100\n",
      "180/180 [==============================] - 0s 1ms/step - loss: 17.6438 - accuracy: 0.2074\n",
      "Epoch 37/100\n",
      "180/180 [==============================] - 0s 989us/step - loss: 17.6922 - accuracy: 0.2074\n",
      "Epoch 38/100\n",
      "180/180 [==============================] - 0s 1ms/step - loss: 17.6119 - accuracy: 0.2093\n",
      "Epoch 39/100\n",
      "180/180 [==============================] - 0s 1ms/step - loss: 17.5828 - accuracy: 0.2111\n",
      "Epoch 40/100\n",
      "180/180 [==============================] - 0s 975us/step - loss: 17.6590 - accuracy: 0.2176\n",
      "Epoch 41/100\n",
      "180/180 [==============================] - 0s 1ms/step - loss: 17.6006 - accuracy: 0.2130\n",
      "Epoch 42/100\n",
      "180/180 [==============================] - 0s 1ms/step - loss: 17.6083 - accuracy: 0.2102\n",
      "Epoch 43/100\n",
      "180/180 [==============================] - 0s 1ms/step - loss: 17.6784 - accuracy: 0.2102\n",
      "Epoch 44/100\n",
      "180/180 [==============================] - 0s 1ms/step - loss: 17.6589 - accuracy: 0.2148\n",
      "Epoch 45/100\n",
      "180/180 [==============================] - 0s 991us/step - loss: 17.6452 - accuracy: 0.2204\n",
      "Epoch 46/100\n",
      "180/180 [==============================] - 0s 958us/step - loss: 17.7342 - accuracy: 0.2083\n",
      "Epoch 47/100\n",
      "180/180 [==============================] - 0s 996us/step - loss: 17.7109 - accuracy: 0.2213\n",
      "Epoch 48/100\n",
      "180/180 [==============================] - 0s 953us/step - loss: 17.6565 - accuracy: 0.2000\n",
      "Epoch 49/100\n",
      "180/180 [==============================] - 0s 1ms/step - loss: 17.7122 - accuracy: 0.2120\n",
      "Epoch 50/100\n",
      "180/180 [==============================] - 0s 1ms/step - loss: 17.8215 - accuracy: 0.2065\n",
      "Epoch 51/100\n",
      "180/180 [==============================] - 0s 967us/step - loss: 17.8626 - accuracy: 0.2111\n",
      "Epoch 52/100\n",
      "180/180 [==============================] - 0s 1ms/step - loss: 17.7078 - accuracy: 0.2120\n",
      "Epoch 53/100\n",
      "180/180 [==============================] - 0s 1ms/step - loss: 17.4583 - accuracy: 0.2093\n",
      "Epoch 54/100\n",
      "180/180 [==============================] - 0s 1ms/step - loss: 17.6209 - accuracy: 0.2157\n",
      "Epoch 55/100\n",
      "180/180 [==============================] - 0s 1ms/step - loss: 17.7659 - accuracy: 0.2139\n",
      "Epoch 56/100\n",
      "180/180 [==============================] - 0s 1ms/step - loss: 17.7622 - accuracy: 0.2185\n",
      "Epoch 57/100\n",
      "180/180 [==============================] - 0s 1ms/step - loss: 17.6667 - accuracy: 0.2065\n",
      "Epoch 58/100\n",
      "180/180 [==============================] - 0s 999us/step - loss: 17.7038 - accuracy: 0.2139\n",
      "Epoch 59/100\n",
      "180/180 [==============================] - 0s 1ms/step - loss: 17.7229 - accuracy: 0.2102\n",
      "Epoch 60/100\n",
      "180/180 [==============================] - 0s 1ms/step - loss: 17.7088 - accuracy: 0.2111\n",
      "Epoch 61/100\n",
      "180/180 [==============================] - 0s 1ms/step - loss: 17.7481 - accuracy: 0.2176\n",
      "Epoch 62/100\n",
      "180/180 [==============================] - 0s 990us/step - loss: 17.6803 - accuracy: 0.2102\n",
      "Epoch 63/100\n",
      "180/180 [==============================] - 0s 1ms/step - loss: 17.5660 - accuracy: 0.2111\n",
      "Epoch 64/100\n",
      "180/180 [==============================] - 0s 960us/step - loss: 17.6413 - accuracy: 0.2065\n",
      "Epoch 65/100\n",
      "180/180 [==============================] - 0s 980us/step - loss: 17.6457 - accuracy: 0.2130\n",
      "Epoch 66/100\n",
      "180/180 [==============================] - 0s 1ms/step - loss: 17.6347 - accuracy: 0.2204\n",
      "Epoch 67/100\n",
      "180/180 [==============================] - 0s 1ms/step - loss: 17.6460 - accuracy: 0.2148\n",
      "Epoch 68/100\n",
      "180/180 [==============================] - 0s 1ms/step - loss: 17.6555 - accuracy: 0.2120\n",
      "Epoch 69/100\n",
      "180/180 [==============================] - 0s 1ms/step - loss: 17.6102 - accuracy: 0.2065\n",
      "Epoch 70/100\n",
      "180/180 [==============================] - 0s 1ms/step - loss: 17.7764 - accuracy: 0.2111\n",
      "Epoch 71/100\n",
      "180/180 [==============================] - 0s 1ms/step - loss: 17.5740 - accuracy: 0.2056\n",
      "Epoch 72/100\n",
      "180/180 [==============================] - 0s 1ms/step - loss: 17.7576 - accuracy: 0.2056\n",
      "Epoch 73/100\n",
      "180/180 [==============================] - 0s 1ms/step - loss: 17.7021 - accuracy: 0.2194\n",
      "Epoch 74/100\n",
      "180/180 [==============================] - 0s 1ms/step - loss: 17.5745 - accuracy: 0.2102\n",
      "Epoch 75/100\n",
      "180/180 [==============================] - 0s 1ms/step - loss: 17.6573 - accuracy: 0.2148\n",
      "Epoch 76/100\n",
      "180/180 [==============================] - 0s 1ms/step - loss: 17.6455 - accuracy: 0.2056\n",
      "Epoch 77/100\n",
      "180/180 [==============================] - 0s 1ms/step - loss: 17.6806 - accuracy: 0.2111\n",
      "Epoch 78/100\n",
      "180/180 [==============================] - 0s 1ms/step - loss: 17.6392 - accuracy: 0.2102\n",
      "Epoch 79/100\n",
      "180/180 [==============================] - 0s 1ms/step - loss: 17.6612 - accuracy: 0.2130\n",
      "Epoch 80/100\n",
      "180/180 [==============================] - 0s 1ms/step - loss: 17.6434 - accuracy: 0.2056\n",
      "Epoch 81/100\n",
      "180/180 [==============================] - 0s 1ms/step - loss: 17.6458 - accuracy: 0.2056\n",
      "Epoch 82/100\n",
      "180/180 [==============================] - 0s 1ms/step - loss: 17.7545 - accuracy: 0.2185\n",
      "Epoch 83/100\n",
      "180/180 [==============================] - 0s 1ms/step - loss: 17.6161 - accuracy: 0.2148\n",
      "Epoch 84/100\n",
      "180/180 [==============================] - 0s 1ms/step - loss: 17.6633 - accuracy: 0.2148\n",
      "Epoch 85/100\n",
      "180/180 [==============================] - 0s 1ms/step - loss: 17.7589 - accuracy: 0.2111\n",
      "Epoch 86/100\n",
      "180/180 [==============================] - 0s 1ms/step - loss: 17.7691 - accuracy: 0.2083\n",
      "Epoch 87/100\n",
      "180/180 [==============================] - 0s 1ms/step - loss: 17.5620 - accuracy: 0.2130\n",
      "Epoch 88/100\n",
      "180/180 [==============================] - 0s 1ms/step - loss: 17.6126 - accuracy: 0.2102\n",
      "Epoch 89/100\n",
      "180/180 [==============================] - 0s 1ms/step - loss: 17.8245 - accuracy: 0.2037\n",
      "Epoch 90/100\n",
      "180/180 [==============================] - 0s 1ms/step - loss: 17.6718 - accuracy: 0.2093\n",
      "Epoch 91/100\n",
      "180/180 [==============================] - 0s 1ms/step - loss: 17.6476 - accuracy: 0.2083\n",
      "Epoch 92/100\n",
      "180/180 [==============================] - 0s 1ms/step - loss: 17.5831 - accuracy: 0.2083\n",
      "Epoch 93/100\n",
      "180/180 [==============================] - 0s 1ms/step - loss: 17.6804 - accuracy: 0.2093\n",
      "Epoch 94/100\n",
      "180/180 [==============================] - 0s 1ms/step - loss: 17.6019 - accuracy: 0.2167\n",
      "Epoch 95/100\n",
      "180/180 [==============================] - 0s 1ms/step - loss: 17.6579 - accuracy: 0.2130\n",
      "Epoch 96/100\n",
      "180/180 [==============================] - 0s 1ms/step - loss: 17.7753 - accuracy: 0.2111\n",
      "Epoch 97/100\n",
      "180/180 [==============================] - 0s 1ms/step - loss: 17.6793 - accuracy: 0.2167\n",
      "Epoch 98/100\n",
      "180/180 [==============================] - 0s 1ms/step - loss: 17.8102 - accuracy: 0.2046\n",
      "Epoch 99/100\n",
      "180/180 [==============================] - 0s 1ms/step - loss: 17.6978 - accuracy: 0.2167\n",
      "Epoch 100/100\n",
      "180/180 [==============================] - 0s 1ms/step - loss: 17.6732 - accuracy: 0.2120\n"
     ]
    },
    {
     "data": {
      "text/plain": [
       "<tensorflow.python.keras.callbacks.History at 0x1415f9828>"
      ]
     },
     "execution_count": 93,
     "metadata": {},
     "output_type": "execute_result"
    }
   ],
   "source": [
    "# Fit the model to the training subtypes (C input, X measured expression reference)\n",
    "model.fit(e_n[:180], X_n[:180], batch_size=batch_size, epochs=epochs)"
   ]
  },
  {
   "cell_type": "code",
   "execution_count": 122,
   "metadata": {},
   "outputs": [
    {
     "name": "stdout",
     "output_type": "stream",
     "text": [
      "mse| pred: 0.5792672886499586, baseline: 5.315083741493803\n"
     ]
    }
   ],
   "source": [
    "# Check the MSE of some test sample for validation\n",
    "y_pred = model.predict(e_n[199:200])\n",
    "y_true = W_n[199:200][0]\n",
    "print(f\"mse| pred: {np.mean(np.sum(np.square(y_pred-y_true)))}, baseline: {np.mean(np.sum(np.square(np.zeros(y_pred.shape)-y_true)))}\")"
   ]
  },
  {
   "cell_type": "code",
   "execution_count": 123,
   "metadata": {},
   "outputs": [],
   "source": [
    "# Define a thresholding function for visualizing predictions\n",
    "def trim_params(w, thres=0.2):\n",
    "    w_new = np.copy(w)\n",
    "    w_new[np.abs(w) < thres] = 0\n",
    "    return w_new"
   ]
  },
  {
   "cell_type": "code",
   "execution_count": 124,
   "metadata": {},
   "outputs": [
    {
     "data": {
      "image/png": "[encoded data removed]",
      "text/plain": [
       "<Figure size 432x288 with 2 Axes>"
      ]
     },
     "metadata": {
      "needs_background": "light"
     },
     "output_type": "display_data"
    },
    {
     "data": {
      "image/png": "[encoded data removed]",
      "text/plain": [
       "<Figure size 432x288 with 2 Axes>"
      ]
     },
     "metadata": {
      "needs_background": "light"
     },
     "output_type": "display_data"
    }
   ],
   "source": [
    "# Visualize a prediction\n",
    "y_pred = trim_params(y_pred)\n",
    "plt.imshow(y_pred, cmap='coolwarm', vmin=-2, vmax=2)\n",
    "plt.title(r\"$W_{i=185}$ Predicted\")\n",
    "plt.colorbar()\n",
    "plt.show()\n",
    "plt.imshow(y_true, cmap='coolwarm', vmin=-2, vmax=2)\n",
    "plt.title(r\"$W_{i=185}$ Truth\")\n",
    "plt.colorbar()\n",
    "plt.show()"
   ]
  },
  {
   "cell_type": "code",
   "execution_count": 121,
   "metadata": {},
   "outputs": [
    {
     "name": "stdout",
     "output_type": "stream",
     "text": [
      "pred 0\n"
     ]
    },
    {
     "data": {
      "image/png": "[encoded data removed]",
      "text/plain": [
       "<Figure size 432x288 with 2 Axes>"
      ]
     },
     "metadata": {
      "needs_background": "light"
     },
     "output_type": "display_data"
    },
    {
     "name": "stdout",
     "output_type": "stream",
     "text": [
      "pred 1\n"
     ]
    },
    {
     "data": {
      "image/png": "[encoded data removed]",
      "text/plain": [
       "<Figure size 432x288 with 2 Axes>"
      ]
     },
     "metadata": {
      "needs_background": "light"
     },
     "output_type": "display_data"
    },
    {
     "name": "stdout",
     "output_type": "stream",
     "text": [
      "true 0\n"
     ]
    },
    {
     "data": {
      "image/png": "[encoded data removed]",
      "text/plain": [
       "<Figure size 432x288 with 2 Axes>"
      ]
     },
     "metadata": {
      "needs_background": "light"
     },
     "output_type": "display_data"
    },
    {
     "name": "stdout",
     "output_type": "stream",
     "text": [
      "true 1\n"
     ]
    },
    {
     "data": {
      "image/png": "[encoded data removed]",
      "text/plain": [
       "<Figure size 432x288 with 2 Axes>"
      ]
     },
     "metadata": {
      "needs_background": "light"
     },
     "output_type": "display_data"
    }
   ],
   "source": [
    "# Visualize the learned archetypes\n",
    "\n",
    "W_k_pred = explainer.trainable_variables[0].numpy()\n",
    "\n",
    "for i in range(k):\n",
    "    print(f\"pred {i}\")\n",
    "    plt.imshow(W_k_pred[i], cmap='coolwarm', vmin=-2, vmax=2)\n",
    "    plt.colorbar()\n",
    "    plt.show()\n",
    "for i in range(k):\n",
    "    print(f\"true {i}\")\n",
    "    plt.imshow(W_k[i], cmap='coolwarm', vmin=-2, vmax=2)\n",
    "    plt.colorbar()\n",
    "    plt.show()"
   ]
  },
  {
   "cell_type": "code",
   "execution_count": 125,
   "metadata": {},
   "outputs": [
    {
     "data": {
      "text/plain": [
       "(array([[0.64592844, 0.35407162]], dtype=float32),\n",
       " array([[0.60978095, 0.39021905]]))"
      ]
     },
     "execution_count": 125,
     "metadata": {},
     "output_type": "execute_result"
    }
   ],
   "source": [
    "# Display the predicted subtype and real subtype\n",
    "encoder(e_n[199:200]).numpy(), subtypes[199:200]"
   ]
  },
  {
   "cell_type": "code",
   "execution_count": null,
   "metadata": {},
   "outputs": [],
   "source": []
  }
 ],
 "metadata": {
  "kernelspec": {
   "display_name": "cnotears_dl",
   "language": "python",
   "name": "cnotears_dl"
  },
  "language_info": {
   "codemirror_mode": {
    "name": "ipython",
    "version": 3
   },
   "file_extension": ".py",
   "mimetype": "text/x-python",
   "name": "python",
   "nbconvert_exporter": "python",
   "pygments_lexer": "ipython3",
   "version": "3.7.3"
  }
 },
 "nbformat": 4,
 "nbformat_minor": 4
}
