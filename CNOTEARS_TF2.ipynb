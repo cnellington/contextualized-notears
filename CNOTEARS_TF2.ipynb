{
 "cells": [
  {
   "cell_type": "code",
   "execution_count": 220,
   "metadata": {},
   "outputs": [],
   "source": [
    "\"\"\"\n",
    "Caleb Ellington\n",
    "C-NOTEARS hack\n",
    "10/2/20\n",
    "\n",
    "This is a hacked-together proof-of-concept for the contextualized no-tears method.\n",
    "A list of all the bad design choices is kept below\n",
    "==================================================\n",
    "\n",
    "- batchsize limited to 1 for training reasons\n",
    "- TODO: Make Xn the same shape as Wn to allow easy model.fit\n",
    "\"\"\"\n",
    "\n",
    "import numpy as np\n",
    "import matplotlib.pyplot as plt\n",
    "\n",
    "import tensorflow as tf\n",
    "\n",
    "import utils\n",
    "utils.set_random_seed(1)"
   ]
  },
  {
   "cell_type": "code",
   "execution_count": 221,
   "metadata": {},
   "outputs": [
    {
     "name": "stdout",
     "output_type": "stream",
     "text": [
      "subtypes (1000, 3), W_n (1000, 10, 10), e_n (1000, 50, 1), X_n (1000, 10, 10)\n"
     ]
    }
   ],
   "source": [
    "!python dataloader.py\n",
    "\n",
    "archz = np.load('outputs/archetypes.npz')\n",
    "W_k = archz['W_k']\n",
    "e_k = archz['e_k']\n",
    "samplez = np.load('outputs/samples.npz')\n",
    "subtypes = samplez['subtypes']\n",
    "W_n = samplez['W_n']\n",
    "e_n = samplez['e_n'][:,:,np.newaxis]\n",
    "X_n = samplez['X_n']\n",
    "print(f\"subtypes {subtypes.shape}, W_n {W_n.shape}, e_n {e_n.shape}, X_n {X_n.shape}\")"
   ]
  },
  {
   "cell_type": "code",
   "execution_count": 224,
   "metadata": {},
   "outputs": [
    {
     "name": "stdout",
     "output_type": "stream",
     "text": [
      "n 1000, d 10, xn 10, cn 50, k 3\n"
     ]
    }
   ],
   "source": [
    "n, d, _ = W_n.shape\n",
    "xn = X_n.shape[1]\n",
    "cn = e_n.shape[1]\n",
    "k = subtypes.shape[1]\n",
    "batch_size = 1\n",
    "epochs = 100\n",
    "encoder_input_shape = (cn, 1)\n",
    "encoder_output_shape = (k,)\n",
    "dict_output_shape = (d, d)\n",
    "tf_dtype = tf.dtypes.float32\n",
    "\n",
    "print(f\"n {n}, d {d}, xn {xn}, cn {cn}, k {k}\")"
   ]
  },
  {
   "cell_type": "code",
   "execution_count": 238,
   "metadata": {},
   "outputs": [],
   "source": [
    "context = tf.keras.layers.Input(\n",
    "    shape=encoder_input_shape, dtype=tf_dtype, name=\"C\"\n",
    ")\n",
    "\n",
    "encoder = tf.keras.models.Sequential([\n",
    "    tf.keras.layers.Flatten(),\n",
    "    tf.keras.layers.Dense(np.prod(encoder_output_shape), activation='softmax'),\n",
    "])\n",
    "encodings = encoder(context)\n",
    "# encodings = tf.keras.layers.Lambda(lambda x: x, name=\"E\")(encodings)\n",
    "\n",
    "class Explainer(tf.keras.layers.Layer):\n",
    "    def __init__(self, archetype_shape):\n",
    "        super(Explainer, self).__init__()\n",
    "        self.archetypes = self.add_weight(\"archetypes\", \n",
    "                                          shape=archetype_shape)\n",
    "        self.k, self.d, _ = archetype_shape\n",
    "        \n",
    "    def build(self, input_shapes):\n",
    "        pass\n",
    "        \n",
    "    def call(self, subtype):\n",
    "        tiled = tf.tile(subtype, (self.d*self.d, 1))\n",
    "        transposed = tf.transpose(tiled)\n",
    "        weights = tf.reshape(transposed, (subtype.shape[1], self.d, self.d))\n",
    "        result = tf.math.reduce_sum(tf.math.multiply(weights, self.archetypes), axis=0)\n",
    "        return result\n",
    "        \n",
    "explainer = Explainer(W_k.shape)\n",
    "outputs = explainer(encodings)\n",
    "# outputs = tf.keras.layers.Reshape(dict_output_shape, name=\"Y\")(network)\n",
    "model = tf.keras.models.Model(inputs=context, outputs=outputs)"
   ]
  },
  {
   "cell_type": "code",
   "execution_count": 239,
   "metadata": {},
   "outputs": [
    {
     "name": "stdout",
     "output_type": "stream",
     "text": [
      "Epoch 1/100\n",
      "800/800 [==============================] - 1s 987us/step - loss: 492.2352 - accuracy: 0.09850s - loss: 686.7396 - \n",
      "Epoch 2/100\n",
      "800/800 [==============================] - 1s 979us/step - loss: 275.6503 - accuracy: 0.1034\n",
      "Epoch 3/100\n",
      "800/800 [==============================] - 1s 870us/step - loss: 255.4788 - accuracy: 0.1013\n",
      "Epoch 4/100\n",
      "800/800 [==============================] - 1s 889us/step - loss: 252.1045 - accuracy: 0.1007\n",
      "Epoch 5/100\n",
      "800/800 [==============================] - 1s 872us/step - loss: 241.9601 - accuracy: 0.0935\n",
      "Epoch 6/100\n",
      "800/800 [==============================] - 1s 916us/step - loss: 240.1981 - accuracy: 0.1019\n",
      "Epoch 7/100\n",
      "800/800 [==============================] - 1s 932us/step - loss: 237.3702 - accuracy: 0.1015\n",
      "Epoch 8/100\n",
      "800/800 [==============================] - 1s 928us/step - loss: 233.8383 - accuracy: 0.1005\n",
      "Epoch 9/100\n",
      "800/800 [==============================] - 1s 984us/step - loss: 233.9554 - accuracy: 0.1036\n",
      "Epoch 10/100\n",
      "800/800 [==============================] - 1s 927us/step - loss: 233.1738 - accuracy: 0.1042\n",
      "Epoch 11/100\n",
      "800/800 [==============================] - 1s 971us/step - loss: 234.3396 - accuracy: 0.1047\n",
      "Epoch 12/100\n",
      "800/800 [==============================] - 1s 987us/step - loss: 236.8634 - accuracy: 0.1020\n",
      "Epoch 13/100\n",
      "800/800 [==============================] - 1s 969us/step - loss: 237.1330 - accuracy: 0.1020\n",
      "Epoch 14/100\n",
      "800/800 [==============================] - 1s 1ms/step - loss: 239.7973 - accuracy: 0.1060\n",
      "Epoch 15/100\n",
      "800/800 [==============================] - 1s 1ms/step - loss: 236.8285 - accuracy: 0.1100\n",
      "Epoch 16/100\n",
      "800/800 [==============================] - 1s 1ms/step - loss: 237.6825 - accuracy: 0.1071\n",
      "Epoch 17/100\n",
      "800/800 [==============================] - 1s 1ms/step - loss: 241.1757 - accuracy: 0.0991\n",
      "Epoch 18/100\n",
      "800/800 [==============================] - 1s 1ms/step - loss: 238.3213 - accuracy: 0.1019\n",
      "Epoch 19/100\n",
      "800/800 [==============================] - 1s 1ms/step - loss: 237.7337 - accuracy: 0.1016\n",
      "Epoch 20/100\n",
      "800/800 [==============================] - 1s 1ms/step - loss: 238.1118 - accuracy: 0.1014\n",
      "Epoch 21/100\n",
      "800/800 [==============================] - 1s 1ms/step - loss: 237.3906 - accuracy: 0.1040\n",
      "Epoch 22/100\n",
      "800/800 [==============================] - 1s 1ms/step - loss: 239.3767 - accuracy: 0.1019\n",
      "Epoch 23/100\n",
      "800/800 [==============================] - 1s 1ms/step - loss: 237.3590 - accuracy: 0.1066\n",
      "Epoch 24/100\n",
      "800/800 [==============================] - 1s 1ms/step - loss: 238.2411 - accuracy: 0.1025\n",
      "Epoch 25/100\n",
      "800/800 [==============================] - 1s 1ms/step - loss: 240.8732 - accuracy: 0.0994\n",
      "Epoch 26/100\n",
      "800/800 [==============================] - 1s 1ms/step - loss: 239.8406 - accuracy: 0.1116\n",
      "Epoch 27/100\n",
      "800/800 [==============================] - 1s 1ms/step - loss: 239.3047 - accuracy: 0.1040\n",
      "Epoch 28/100\n",
      "800/800 [==============================] - 1s 1ms/step - loss: 240.0821 - accuracy: 0.0967\n",
      "Epoch 29/100\n",
      "800/800 [==============================] - 1s 1ms/step - loss: 240.1132 - accuracy: 0.1015\n",
      "Epoch 30/100\n",
      "800/800 [==============================] - 1s 1ms/step - loss: 236.3734 - accuracy: 0.0984\n",
      "Epoch 31/100\n",
      "800/800 [==============================] - 1s 2ms/step - loss: 237.1506 - accuracy: 0.1071\n",
      "Epoch 32/100\n",
      "800/800 [==============================] - 1s 1ms/step - loss: 236.3666 - accuracy: 0.1015\n",
      "Epoch 33/100\n",
      "800/800 [==============================] - 1s 1ms/step - loss: 239.2587 - accuracy: 0.1054\n",
      "Epoch 34/100\n",
      "800/800 [==============================] - 1s 1ms/step - loss: 240.3006 - accuracy: 0.0949\n",
      "Epoch 35/100\n",
      "800/800 [==============================] - 1s 1ms/step - loss: 237.4994 - accuracy: 0.1030\n",
      "Epoch 36/100\n",
      "800/800 [==============================] - 1s 1ms/step - loss: 239.8051 - accuracy: 0.1034\n",
      "Epoch 37/100\n",
      "800/800 [==============================] - 1s 1ms/step - loss: 239.1132 - accuracy: 0.0988\n",
      "Epoch 38/100\n",
      "800/800 [==============================] - 1s 1ms/step - loss: 238.4117 - accuracy: 0.0996\n",
      "Epoch 39/100\n",
      "800/800 [==============================] - 1s 1ms/step - loss: 238.8635 - accuracy: 0.1061\n",
      "Epoch 40/100\n",
      "800/800 [==============================] - 1s 1ms/step - loss: 240.8323 - accuracy: 0.1086\n",
      "Epoch 41/100\n",
      "800/800 [==============================] - 1s 1ms/step - loss: 240.2169 - accuracy: 0.0986\n",
      "Epoch 42/100\n",
      "800/800 [==============================] - 1s 2ms/step - loss: 237.3042 - accuracy: 0.0991\n",
      "Epoch 43/100\n",
      "800/800 [==============================] - 1s 1ms/step - loss: 237.4868 - accuracy: 0.0989\n",
      "Epoch 44/100\n",
      "800/800 [==============================] - 1s 1ms/step - loss: 240.0559 - accuracy: 0.1004\n",
      "Epoch 45/100\n",
      "800/800 [==============================] - 1s 1ms/step - loss: 238.7010 - accuracy: 0.1040\n",
      "Epoch 46/100\n",
      "800/800 [==============================] - 1s 1ms/step - loss: 236.5957 - accuracy: 0.1020\n",
      "Epoch 47/100\n",
      "800/800 [==============================] - 1s 2ms/step - loss: 237.8319 - accuracy: 0.1040\n",
      "Epoch 48/100\n",
      "800/800 [==============================] - 1s 1ms/step - loss: 238.8458 - accuracy: 0.1066\n",
      "Epoch 49/100\n",
      "800/800 [==============================] - 1s 1ms/step - loss: 239.0450 - accuracy: 0.0959\n",
      "Epoch 50/100\n",
      "800/800 [==============================] - 1s 2ms/step - loss: 240.4131 - accuracy: 0.1007\n",
      "Epoch 51/100\n",
      "800/800 [==============================] - 1s 2ms/step - loss: 235.2964 - accuracy: 0.1018\n",
      "Epoch 52/100\n",
      "800/800 [==============================] - 1s 2ms/step - loss: 237.5305 - accuracy: 0.1051\n",
      "Epoch 53/100\n",
      "800/800 [==============================] - 1s 2ms/step - loss: 237.4075 - accuracy: 0.0986\n",
      "Epoch 54/100\n",
      "800/800 [==============================] - 1s 2ms/step - loss: 238.0160 - accuracy: 0.1045\n",
      "Epoch 55/100\n",
      "800/800 [==============================] - 1s 2ms/step - loss: 239.9859 - accuracy: 0.1021\n",
      "Epoch 56/100\n",
      "800/800 [==============================] - 1s 2ms/step - loss: 239.6471 - accuracy: 0.1050\n",
      "Epoch 57/100\n",
      "800/800 [==============================] - 1s 2ms/step - loss: 238.1093 - accuracy: 0.1020\n",
      "Epoch 58/100\n",
      "800/800 [==============================] - 2s 2ms/step - loss: 238.2806 - accuracy: 0.1080\n",
      "Epoch 59/100\n",
      "800/800 [==============================] - 1s 2ms/step - loss: 238.1354 - accuracy: 0.1034\n",
      "Epoch 60/100\n",
      "800/800 [==============================] - 2s 2ms/step - loss: 241.0330 - accuracy: 0.1004\n",
      "Epoch 61/100\n",
      "800/800 [==============================] - 1s 2ms/step - loss: 239.5586 - accuracy: 0.1019\n",
      "Epoch 62/100\n",
      "800/800 [==============================] - 1s 2ms/step - loss: 239.2722 - accuracy: 0.0991\n",
      "Epoch 63/100\n",
      "800/800 [==============================] - 1s 2ms/step - loss: 237.6179 - accuracy: 0.0997\n",
      "Epoch 64/100\n",
      "800/800 [==============================] - 1s 2ms/step - loss: 238.3777 - accuracy: 0.1049\n",
      "Epoch 65/100\n",
      "800/800 [==============================] - 1s 2ms/step - loss: 238.6123 - accuracy: 0.1076: 0s - loss: 237.5981 - accuracy\n",
      "Epoch 66/100\n",
      "800/800 [==============================] - 1s 2ms/step - loss: 237.8235 - accuracy: 0.1059\n",
      "Epoch 67/100\n",
      "800/800 [==============================] - 1s 2ms/step - loss: 239.1078 - accuracy: 0.1045\n",
      "Epoch 68/100\n",
      "800/800 [==============================] - 1s 2ms/step - loss: 239.1618 - accuracy: 0.0990\n",
      "Epoch 69/100\n",
      "800/800 [==============================] - 1s 1ms/step - loss: 235.0412 - accuracy: 0.1009\n",
      "Epoch 70/100\n",
      "800/800 [==============================] - 1s 2ms/step - loss: 238.3773 - accuracy: 0.1086\n",
      "Epoch 71/100\n",
      "800/800 [==============================] - 1s 2ms/step - loss: 238.9122 - accuracy: 0.1018\n",
      "Epoch 72/100\n",
      "800/800 [==============================] - 1s 2ms/step - loss: 238.3163 - accuracy: 0.0964\n",
      "Epoch 73/100\n",
      "800/800 [==============================] - 1s 2ms/step - loss: 239.1692 - accuracy: 0.1045\n",
      "Epoch 74/100\n",
      "800/800 [==============================] - 1s 2ms/step - loss: 237.5792 - accuracy: 0.1059\n",
      "Epoch 75/100\n",
      "800/800 [==============================] - 1s 2ms/step - loss: 238.5191 - accuracy: 0.1037\n",
      "Epoch 76/100\n",
      "800/800 [==============================] - 1s 2ms/step - loss: 238.6314 - accuracy: 0.1021\n",
      "Epoch 77/100\n",
      "800/800 [==============================] - 1s 2ms/step - loss: 235.7639 - accuracy: 0.1080\n",
      "Epoch 78/100\n",
      "800/800 [==============================] - 1s 2ms/step - loss: 237.9901 - accuracy: 0.0989\n",
      "Epoch 79/100\n",
      "800/800 [==============================] - 1s 2ms/step - loss: 238.9693 - accuracy: 0.1024\n",
      "Epoch 80/100\n",
      "800/800 [==============================] - 1s 2ms/step - loss: 240.5513 - accuracy: 0.1030\n",
      "Epoch 81/100\n",
      "800/800 [==============================] - 1s 2ms/step - loss: 240.0656 - accuracy: 0.1004\n",
      "Epoch 82/100\n",
      "800/800 [==============================] - 1s 1ms/step - loss: 238.3905 - accuracy: 0.1054\n",
      "Epoch 83/100\n",
      "800/800 [==============================] - 1s 1ms/step - loss: 239.4889 - accuracy: 0.1016\n",
      "Epoch 84/100\n",
      "800/800 [==============================] - 1s 1ms/step - loss: 236.2348 - accuracy: 0.1006\n",
      "Epoch 85/100\n",
      "800/800 [==============================] - 1s 1ms/step - loss: 236.3042 - accuracy: 0.1023\n",
      "Epoch 86/100\n",
      "800/800 [==============================] - 1s 1ms/step - loss: 239.1051 - accuracy: 0.1006\n",
      "Epoch 87/100\n",
      "800/800 [==============================] - 1s 2ms/step - loss: 238.5899 - accuracy: 0.1010\n",
      "Epoch 88/100\n",
      "800/800 [==============================] - 1s 1ms/step - loss: 239.7125 - accuracy: 0.1016\n",
      "Epoch 89/100\n",
      "800/800 [==============================] - 1s 1ms/step - loss: 239.0320 - accuracy: 0.1051\n",
      "Epoch 90/100\n",
      "800/800 [==============================] - 1s 2ms/step - loss: 237.0073 - accuracy: 0.1044\n",
      "Epoch 91/100\n",
      "800/800 [==============================] - 1s 2ms/step - loss: 238.3696 - accuracy: 0.1002\n",
      "Epoch 92/100\n",
      "800/800 [==============================] - 1s 1ms/step - loss: 239.0020 - accuracy: 0.1063\n",
      "Epoch 93/100\n",
      "800/800 [==============================] - 1s 1ms/step - loss: 238.0235 - accuracy: 0.1018\n",
      "Epoch 94/100\n",
      "800/800 [==============================] - 1s 1ms/step - loss: 237.2372 - accuracy: 0.1049\n",
      "Epoch 95/100\n",
      "800/800 [==============================] - 1s 1ms/step - loss: 237.3544 - accuracy: 0.1046\n",
      "Epoch 96/100\n",
      "800/800 [==============================] - 1s 2ms/step - loss: 237.0202 - accuracy: 0.1055\n",
      "Epoch 97/100\n",
      "800/800 [==============================] - 1s 1ms/step - loss: 239.0118 - accuracy: 0.1035\n",
      "Epoch 98/100\n",
      "800/800 [==============================] - 1s 2ms/step - loss: 238.8944 - accuracy: 0.0995\n",
      "Epoch 99/100\n",
      "800/800 [==============================] - 1s 1ms/step - loss: 238.7038 - accuracy: 0.1009\n",
      "Epoch 100/100\n",
      "800/800 [==============================] - 1s 1ms/step - loss: 238.8173 - accuracy: 0.1000\n"
     ]
    },
    {
     "data": {
      "text/plain": [
       "<tensorflow.python.keras.callbacks.History at 0x14be9bc50>"
      ]
     },
     "execution_count": 239,
     "metadata": {},
     "output_type": "execute_result"
    }
   ],
   "source": [
    "# def loss_fn(subtypes, w_trues):\n",
    "#     bsize = len(subtypes)\n",
    "#     total_loss = tf.convert_to_tensor(0.0)\n",
    "#     for i in tf.range(bsize):\n",
    "#         subtype = subtypes[i]\n",
    "#         w_true = w_trues[i]\n",
    "#         total_loss += tf.reduce_sum(subtype)\n",
    "#     return total_loss\n",
    "#     d = w_true.shape[0]\n",
    "#     W_pred = tf.reshape(tf.transpose(tf.tile(subtype, (d*d, 1))), (2, d, d)) * W_k\n",
    "#     return tf.reduce_sum(tf.squared_difference(tf.zeros(W_true.shape), W_true))\n",
    "\n",
    "# var_list_fn = lambda: model.trainable_weights\n",
    "# for inval, outval in zip(e_n[:80], subtypes[:80]):\n",
    "#   opt.minimize(loss_fn, var_list_fn)\n",
    "\n",
    "def loss(x_true, w_pred):\n",
    "    d = float(tf.shape(w_pred)[1])\n",
    "    n = float(tf.shape(x_true)[0])\n",
    "    l1_lambda = 1.0\n",
    "    alpha = 1.0e2\n",
    "    rho = 1.0e2\n",
    "    h = tf.linalg.trace(tf.linalg.expm(w_pred * w_pred)) - d\n",
    "    x_prime = tf.matmul(x_true, w_pred)\n",
    "    mse = tf.square(tf.linalg.norm(x_true - x_prime))\n",
    "    return 0.5 / n * mse \\\n",
    "            + l1_lambda * tf.norm(w_pred, ord=1) \\\n",
    "            + alpha * h + 0.5 * rho * h * h\n",
    "\n",
    "opt = tf.keras.optimizers.Adam(learning_rate=1e-2)\n",
    "metrics = ['accuracy']\n",
    "loss_fn = 'mse'\n",
    "\n",
    "model.compile(loss=loss, \n",
    "             optimizer=opt, \n",
    "             metrics = metrics)\n",
    "model.fit(e_n[:800], X_n[:800], batch_size=batch_size, epochs=epochs)"
   ]
  },
  {
   "cell_type": "code",
   "execution_count": 240,
   "metadata": {},
   "outputs": [
    {
     "name": "stdout",
     "output_type": "stream",
     "text": [
      "WARNING:tensorflow:8 out of the last 12 calls to <function Model.make_predict_function.<locals>.predict_function at 0x14c1a8730> triggered tf.function retracing. Tracing is expensive and the excessive number of tracings could be due to (1) creating @tf.function repeatedly in a loop, (2) passing tensors with different shapes, (3) passing Python objects instead of tensors. For (1), please define your @tf.function outside of the loop. For (2), @tf.function has experimental_relax_shapes=True option that relaxes argument shapes that can avoid unnecessary retracing. For (3), please refer to https://www.tensorflow.org/tutorials/customization/performance#python_or_tensor_args and https://www.tensorflow.org/api_docs/python/tf/function for  more details.\n",
      "mse| pred: 6.162416797637318, baseline: 6.159427318412488\n"
     ]
    }
   ],
   "source": [
    "y_pred = model.predict(e_n[900:901])\n",
    "y_true = W_n[900:901][0]\n",
    "print(f\"mse| pred: {np.mean(np.sum(np.square(y_pred-y_true)))}, baseline: {np.mean(np.sum(np.square(np.zeros(y_pred.shape)-y_true)))}\")"
   ]
  },
  {
   "cell_type": "code",
   "execution_count": 178,
   "metadata": {},
   "outputs": [
    {
     "data": {
      "text/plain": [
       "array([[[-1.13535693e-35, -8.60812849e-36,  2.13837075e+00,\n",
       "          3.50283206e-01],\n",
       "        [ 9.71582528e-36, -2.89748366e-35,  1.29655131e-09,\n",
       "          9.97875122e-06],\n",
       "        [-4.65190533e-05, -6.65372729e-01, -4.83426849e-18,\n",
       "         -1.61679171e-04],\n",
       "        [ 2.49212723e-35,  2.00855970e+00, -1.53988469e+00,\n",
       "          1.20172888e-35]],\n",
       "\n",
       "       [[ 1.58590230e-35,  6.94585722e-36, -1.22245669e+00,\n",
       "         -1.96326649e+00],\n",
       "        [ 1.04076594e-36,  2.92742174e-35, -9.10344744e-10,\n",
       "          1.26473733e-05],\n",
       "        [ 1.07025277e-04, -1.72486925e+00,  5.93750285e-18,\n",
       "          2.78525258e-04],\n",
       "        [-2.26224921e-35,  1.42876434e+00,  2.68954694e-01,\n",
       "          1.35458505e-36]]], dtype=float32)"
      ]
     },
     "execution_count": 178,
     "metadata": {},
     "output_type": "execute_result"
    }
   ],
   "source": []
  },
  {
   "cell_type": "code",
   "execution_count": 241,
   "metadata": {},
   "outputs": [
    {
     "data": {
      "image/png": "[encoded data removed]",
      "text/plain": [
       "<Figure size 432x288 with 1 Axes>"
      ]
     },
     "metadata": {
      "needs_background": "light"
     },
     "output_type": "display_data"
    },
    {
     "data": {
      "image/png": "[encoded data removed]",
      "text/plain": [
       "<Figure size 432x288 with 1 Axes>"
      ]
     },
     "metadata": {
      "needs_background": "light"
     },
     "output_type": "display_data"
    }
   ],
   "source": [
    "plt.imshow(y_pred, cmap='hot', interpolation='nearest')\n",
    "plt.show()\n",
    "plt.imshow(y_true, cmap='hot', interpolation='nearest')\n",
    "plt.show()"
   ]
  },
  {
   "cell_type": "code",
   "execution_count": 245,
   "metadata": {},
   "outputs": [
    {
     "data": {
      "image/png": "[encoded data removed]",
      "text/plain": [
       "<Figure size 432x288 with 1 Axes>"
      ]
     },
     "metadata": {
      "needs_background": "light"
     },
     "output_type": "display_data"
    },
    {
     "data": {
      "image/png": "[encoded data removed]",
      "text/plain": [
       "<Figure size 432x288 with 1 Axes>"
      ]
     },
     "metadata": {
      "needs_background": "light"
     },
     "output_type": "display_data"
    }
   ],
   "source": [
    "W_k_pred = explainer.trainable_variables[0].numpy()\n",
    "plt.imshow(W_k_pred[1], cmap='hot', interpolation='nearest')\n",
    "plt.show()\n",
    "plt.imshow(W_k[1], cmap='hot', interpolation='nearest')\n",
    "plt.show()"
   ]
  },
  {
   "cell_type": "code",
   "execution_count": 169,
   "metadata": {},
   "outputs": [
    {
     "data": {
      "text/plain": [
       "array([[ 4.1807475e-36,  2.7086915e-37,  2.1984136e-01, -9.7040731e-01],\n",
       "       [ 4.7636650e-36,  4.2766542e-36,  3.6743997e-11,  1.1502136e-05],\n",
       "       [ 4.1131778e-05, -1.2701867e+00,  1.3148005e-18,  8.9611669e-05],\n",
       "       [-2.2191007e-36,  1.6775833e+00, -5.0730819e-01,  5.9304809e-36]],\n",
       "      dtype=float32)"
      ]
     },
     "execution_count": 169,
     "metadata": {},
     "output_type": "execute_result"
    }
   ],
   "source": [
    "y_pred"
   ]
  },
  {
   "cell_type": "code",
   "execution_count": null,
   "metadata": {},
   "outputs": [],
   "source": []
  }
 ],
 "metadata": {
  "kernelspec": {
   "display_name": "cnotears_dl",
   "language": "python",
   "name": "cnotears_dl"
  },
  "language_info": {
   "codemirror_mode": {
    "name": "ipython",
    "version": 3
   },
   "file_extension": ".py",
   "mimetype": "text/x-python",
   "name": "python",
   "nbconvert_exporter": "python",
   "pygments_lexer": "ipython3",
   "version": "3.7.3"
  }
 },
 "nbformat": 4,
 "nbformat_minor": 4
}
